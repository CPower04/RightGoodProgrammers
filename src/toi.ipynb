{
 "cells": [
  {
   "cell_type": "code",
   "execution_count": 247,
   "id": "a96375bf",
   "metadata": {},
   "outputs": [],
   "source": [
    "import os\n",
    "import pandas as pd\n",
    "import numpy as np\n",
    "import numpy.char as char\n",
    "from sklearn.preprocessing import OneHotEncoder"
   ]
  },
  {
   "cell_type": "code",
   "execution_count": 248,
   "id": "c405c8a1",
   "metadata": {},
   "outputs": [],
   "source": [
    "with open('../data/TOI_2025.10.03_12.20.22.csv') as toi:\n",
    "    toi_df = pd.read_csv(toi)"
   ]
  },
  {
   "cell_type": "code",
   "execution_count": 249,
   "id": "bd91dc12",
   "metadata": {},
   "outputs": [],
   "source": [
    "###this drops columns with >90% null values\n",
    "toi_df = toi_df.dropna(thresh=len(toi_df)*0.1, axis=1)"
   ]
  },
  {
   "cell_type": "code",
   "execution_count": 250,
   "id": "8140bc0a",
   "metadata": {},
   "outputs": [],
   "source": [
    "toi_df = toi_df.drop(columns=[\"toi\", \"tid\", \"toi_created\", \"rowupdate\"])"
   ]
  },
  {
   "cell_type": "code",
   "execution_count": 251,
   "id": "448c768e",
   "metadata": {},
   "outputs": [],
   "source": [
    "# Function to convert Right Ascension string to seconds\n",
    "def time_to_seconds(time_str):\n",
    "    \"\"\"Convert Right Ascension string (HHhMMmSS.sss) to total seconds\"\"\"\n",
    "    if pd.isna(time_str):\n",
    "        return None\n",
    "    try:\n",
    "        # Extract hours, minutes, seconds using regex\n",
    "        pattern = r'(\\d+)h(\\d+)m([\\d.]+)s'\n",
    "        match = re.match(pattern, str(time_str))\n",
    "        if not match:\n",
    "            print(f\"Warning: Could not parse RA value: {time_str}\")\n",
    "            return None\n",
    "        hours = float(match.group(1))\n",
    "        minutes = float(match.group(2))\n",
    "        seconds = float(match.group(3))\n",
    "        \n",
    "        # Validate ranges for RA (0-24h)\n",
    "        if not (0 <= hours < 24 and 0 <= minutes < 60 and 0 <= seconds < 60):\n",
    "            print(f\"Warning: RA values out of range: {time_str}\")\n",
    "            return None\n",
    "            \n",
    "        # Convert everything to seconds\n",
    "        total_seconds = (hours * 3600) + (minutes * 60) + seconds\n",
    "        return total_seconds\n",
    "    except (ValueError, AttributeError) as e:\n",
    "        print(f\"Error converting {time_str}: {str(e)}\")\n",
    "        return None\n",
    "\n",
    "toi_df['rastr'] = toi_df['rastr'].apply(time_to_seconds)\n"
   ]
  },
  {
   "cell_type": "code",
   "execution_count": 252,
   "id": "93a93187",
   "metadata": {},
   "outputs": [
    {
     "name": "stdout",
     "output_type": "stream",
     "text": [
      "Converting DEC strings to decimal degrees...\n",
      "\n",
      "Sample of original values:\n",
      "0    -12d41m45.46s\n",
      "1    -05d30m49.87s\n",
      "2    -10d34m49.64s\n",
      "3    -25d12m25.26s\n",
      "4    -48d48m10.12s\n",
      "Name: decstr, dtype: object\n"
     ]
    }
   ],
   "source": [
    "# Function to convert Declination string to decimal degrees\n",
    "def dec_to_degrees(dec_str):\n",
    "    \"\"\"Convert Declination string (DDdMMmSS.sss) to decimal degrees\"\"\"\n",
    "    if pd.isna(dec_str):\n",
    "        return None\n",
    "    try:\n",
    "        # Extract degrees, minutes, seconds using regex\n",
    "        pattern = r'([+-]?\\d+)d(\\d+)m([\\d.]+)s'\n",
    "        match = re.match(pattern, str(dec_str))\n",
    "        if not match:\n",
    "            print(f\"Warning: Could not parse DEC value: {dec_str}\")\n",
    "            return None\n",
    "        \n",
    "        degrees = float(match.group(1))\n",
    "        minutes = float(match.group(2))\n",
    "        seconds = float(match.group(3))\n",
    "        \n",
    "        # Validate ranges for DEC (-90 to +90 degrees)\n",
    "        if not (-90 <= degrees <= 90 and 0 <= minutes < 60 and 0 <= seconds < 60):\n",
    "            print(f\"Warning: DEC values out of range: {dec_str}\")\n",
    "            return None\n",
    "        \n",
    "        # Convert to decimal degrees\n",
    "        dec_degrees = degrees + (minutes/60) + (seconds/3600)\n",
    "        if dec_degrees < -90 or dec_degrees > 90:\n",
    "            print(f\"Warning: Final DEC value out of range: {dec_degrees}\")\n",
    "            return None\n",
    "            \n",
    "        return dec_degrees\n",
    "        \n",
    "    except (ValueError, AttributeError) as e:\n",
    "        print(f\"Error converting {dec_str}: {str(e)}\")\n",
    "        return None\n",
    "\n",
    "# Convert decstr to decimal degrees\n",
    "print(\"Converting DEC strings to decimal degrees...\")\n",
    "print(\"\\nSample of original values:\")\n",
    "print(toi_df['decstr'].head())\n",
    "\n",
    "toi_df['decstr'] = toi_df['decstr'].apply(dec_to_degrees)\n"
   ]
  },
  {
   "cell_type": "code",
   "execution_count": 253,
   "id": "bcda697a",
   "metadata": {},
   "outputs": [
    {
     "name": "stdout",
     "output_type": "stream",
     "text": [
      "\n",
      "Shape of encoded DataFrame: (7703, 60)\n",
      "\n",
      "Columns in encoded DataFrame: ['rastr', 'ra', 'decstr', 'dec', 'st_pmra', 'st_pmraerr1', 'st_pmraerr2', 'st_pmralim', 'st_pmdec', 'st_pmdecerr1', 'st_pmdecerr2', 'st_pmdeclim', 'pl_tranmid', 'pl_tranmiderr1', 'pl_tranmiderr2', 'pl_tranmidlim', 'pl_orbper', 'pl_orbpererr1', 'pl_orbpererr2', 'pl_orbperlim', 'pl_trandurh', 'pl_trandurherr1', 'pl_trandurherr2', 'pl_trandurhlim', 'pl_trandep', 'pl_trandeperr1', 'pl_trandeperr2', 'pl_trandeplim', 'pl_rade', 'pl_radeerr1', 'pl_radeerr2', 'pl_radelim', 'pl_insol', 'pl_eqt', 'st_tmag', 'st_tmagerr1', 'st_tmagerr2', 'st_tmaglim', 'st_dist', 'st_disterr1', 'st_disterr2', 'st_distlim', 'st_teff', 'st_tefferr1', 'st_tefferr2', 'st_tefflim', 'st_logg', 'st_loggerr1', 'st_loggerr2', 'st_logglim', 'st_rad', 'st_raderr1', 'st_raderr2', 'st_radlim', 'tfopwg_disp_APC', 'tfopwg_disp_CP', 'tfopwg_disp_FA', 'tfopwg_disp_FP', 'tfopwg_disp_KP', 'tfopwg_disp_PC']\n"
     ]
    }
   ],
   "source": [
    "\n",
    "categorical_columns = toi_df.select_dtypes(include=['object']).columns.tolist()\n",
    "\n",
    "\n",
    "# Perform one-hot encoding with NaN handling\n",
    "encoder = OneHotEncoder(sparse_output=False, handle_unknown='ignore')\n",
    "\n",
    "# Fill NaN values with 'missing' before encoding\n",
    "cat_data = toi_df[categorical_columns].fillna('missing')\n",
    "one_hot_encoded = encoder.fit_transform(cat_data)\n",
    "\n",
    "# Create DataFrame with encoded columns\n",
    "feature_names = encoder.get_feature_names_out(categorical_columns)\n",
    "one_hot_df = pd.DataFrame(\n",
    "    one_hot_encoded, \n",
    "    columns=feature_names,\n",
    "    index=toi_df.index\n",
    ")\n",
    "\n",
    "# Get numeric columns to keep\n",
    "numeric_columns = toi_df.select_dtypes(include=['int64', 'float64']).columns\n",
    "\n",
    "# Combine numeric and encoded categorical columns\n",
    "df_encoded = pd.concat([\n",
    "    toi_df[numeric_columns],  # Keep numeric columns\n",
    "    one_hot_df  # Add encoded categorical columns\n",
    "], axis=1)\n",
    "\n",
    "print(\"\\nShape of encoded DataFrame:\", df_encoded.shape)\n",
    "print(\"\\nColumns in encoded DataFrame:\", df_encoded.columns.tolist())"
   ]
  },
  {
   "cell_type": "code",
   "execution_count": 254,
   "id": "fe62ddaf",
   "metadata": {},
   "outputs": [
    {
     "name": "stdout",
     "output_type": "stream",
     "text": [
      "\n",
      "Features dropped due to high correlation: ['ra', 'dec', 'st_pmraerr2', 'st_pmdecerr1', 'st_pmdecerr2', 'pl_tranmiderr2', 'pl_orbpererr2', 'pl_trandurherr2', 'pl_trandeperr2', 'pl_radeerr2', 'st_tmagerr2', 'st_disterr1', 'st_disterr2', 'st_tefferr2', 'st_loggerr2', 'st_rad', 'st_raderr2']\n",
      "\n",
      "Shape of X after dropping correlated features: (7703, 37)\n",
      "Shape of y: (7703, 6)\n"
     ]
    }
   ],
   "source": [
    "# Create correlation matrix only for numeric columns\n",
    "numeric_df = df_encoded.select_dtypes(include=['float64', 'int64'])\n",
    "corr_matrix = numeric_df.corr()\n",
    "\n",
    "# Find highly correlated features\n",
    "upper_triangle = corr_matrix.where(np.triu(np.ones(corr_matrix.shape), k=1).astype(bool))\n",
    "to_drop = [column for column in upper_triangle.columns if any(upper_triangle[column].abs() > 0.7)]\n",
    "\n",
    "# Drop highly correlated features from the main dataframe\n",
    "x = df_encoded.drop(columns=['tfopwg_disp_APC', 'tfopwg_disp_CP', 'tfopwg_disp_FA', \n",
    "                            'tfopwg_disp_FP', 'tfopwg_disp_KP', 'tfopwg_disp_PC'] + to_drop)\n",
    "\n",
    "# Define target variables\n",
    "y = df_encoded[['tfopwg_disp_APC', 'tfopwg_disp_CP', 'tfopwg_disp_FA', \n",
    "                'tfopwg_disp_FP', 'tfopwg_disp_KP', 'tfopwg_disp_PC']]\n",
    "\n",
    "print(\"\\nFeatures dropped due to high correlation:\", to_drop)\n",
    "print(\"\\nShape of X after dropping correlated features:\", x.shape)\n",
    "print(\"Shape of y:\", y.shape)"
   ]
  },
  {
   "cell_type": "code",
   "execution_count": 255,
   "id": "99e08dc6",
   "metadata": {},
   "outputs": [],
   "source": [
    "dataframe = pd.concat([x, y], axis=1)\n",
    "dir = os.getcwd()\n",
    "dir_path = dir.replace('src', 'data\\\\processed_toi.csv')\n",
    "dataframe.to_csv(dir_path, index=False)"
   ]
  }
 ],
 "metadata": {
  "kernelspec": {
   "display_name": "Python 3",
   "language": "python",
   "name": "python3"
  },
  "language_info": {
   "codemirror_mode": {
    "name": "ipython",
    "version": 3
   },
   "file_extension": ".py",
   "mimetype": "text/x-python",
   "name": "python",
   "nbconvert_exporter": "python",
   "pygments_lexer": "ipython3",
   "version": "3.11.9"
  }
 },
 "nbformat": 4,
 "nbformat_minor": 5
}
