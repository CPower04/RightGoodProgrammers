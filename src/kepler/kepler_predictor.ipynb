{
 "cells": [
  {
   "cell_type": "code",
   "execution_count": 190,
   "id": "f11ffa4d",
   "metadata": {},
   "outputs": [],
   "source": [
    "import os\n",
    "import pandas as pd\n",
    "import numpy as np\n",
    "from sklearn.model_selection import train_test_split\n",
    "from sklearn.preprocessing import StandardScaler\n",
    "from sklearn.ensemble import RandomForestClassifier\n",
    "from sklearn.preprocessing import LabelEncoder\n",
    "from sklearn.metrics import classification_report, confusion_matrix\n",
    "from sklearn.model_selection import  RandomizedSearchCV\n",
    "from sklearn.metrics import f1_score\n",
    "import joblib\n",
    "\n"
   ]
  },
  {
   "cell_type": "code",
   "execution_count": 191,
   "id": "0565d1d6",
   "metadata": {},
   "outputs": [
    {
     "name": "stdout",
     "output_type": "stream",
     "text": [
      "c:\\Users\\downe\\RightGoodProgrammers\\src\\kepler\n",
      "Current Directory: c:\\Users\\downe\\RightGoodProgrammers\\src\\kepler\n",
      "Data Directory: c:\\Users\\downe\\RightGoodProgrammers\\data\n"
     ]
    }
   ],
   "source": [
    "# List files in the data directory to check the correct filename\n",
    "print(os.getcwd())\n",
    "# __file__ is not defined in Jupyter notebooks; use os.getcwd() instead\n",
    "dir_path = os.getcwd()\n",
    "\n",
    "print(\"Current Directory:\", dir_path)\n",
    "dir_path = dir_path.replace('src\\\\kepler', 'data')\n",
    "print(\"Data Directory:\", dir_path)\n",
    "df = pd.read_csv(dir_path + '/cumulative_final_2025.10.03.csv')\n"
   ]
  },
  {
   "cell_type": "code",
   "execution_count": null,
   "id": "ff0c5cce",
   "metadata": {},
   "outputs": [],
   "source": []
  },
  {
   "cell_type": "code",
   "execution_count": 192,
   "id": "18ba421a",
   "metadata": {},
   "outputs": [
    {
     "name": "stdout",
     "output_type": "stream",
     "text": [
      "Training shapes: (6694, 32) (6694, 3)\n",
      "Testing shapes: (2870, 32) (2870, 3)\n"
     ]
    }
   ],
   "source": [
    "\n",
    "# Separate features and target\n",
    "target_cols = ['koi_disposition_CANDIDATE', 'koi_disposition_CONFIRMED', 'koi_disposition_FALSE POSITIVE']\n",
    "y_single = df[target_cols].idxmax(axis=1) \\\n",
    "              .str.replace('koi_disposition_', '') \\\n",
    "              .str.strip()\n",
    "train_df, test_df = train_test_split(df, test_size=0.3, random_state=42, stratify=y_single)\n",
    "X_train = train_df.drop(columns=target_cols)\n",
    "y_train = train_df[target_cols]\n",
    "X_test = test_df.drop(columns=target_cols)\n",
    "y_test = test_df[target_cols]\n",
    "\n",
    "# Print shapes to verify split\n",
    "print(\"Training shapes:\", X_train.shape, y_train.shape)\n",
    "print(\"Testing shapes:\", X_test.shape, y_test.shape)"
   ]
  },
  {
   "cell_type": "code",
   "execution_count": 193,
   "id": "7aac6b33",
   "metadata": {},
   "outputs": [
    {
     "name": "stdout",
     "output_type": "stream",
     "text": [
      "confusion_matrix.png\n",
      "k2panda_model.pkl\n",
      "toiscaler.joblib\n",
      "Before scaling:\n",
      "Mean: 0.48\n",
      "Std: 0.48\n",
      "\n",
      "After scaling:\n",
      "Mean: -0.00\n",
      "Std: 1.00\n"
     ]
    }
   ],
   "source": [
    "\n",
    "# Initialize scaler if it doesnt exist\n",
    "for file in os.listdir(dir_path.replace('data', 'models')):\n",
    "    print(file)\n",
    "    if 'keplerscaler' in file:\n",
    "        scaler = joblib.load(os.path.join(dir_path.replace('data', 'models'), file))\n",
    "        break\n",
    "    else:\n",
    "        scaler = StandardScaler()\n",
    "\n",
    "# Fit and transform training data (learns mean and std)\n",
    "X_train_scaled = scaler.fit_transform(X_train)\n",
    "\n",
    "# Transform test data (using training mean/std)\n",
    "X_test_scaled = scaler.transform(X_test)\n",
    "\n",
    "# Convert back to DataFrames to keep column names\n",
    "X_train_scaled = pd.DataFrame(X_train_scaled, columns=X_train.columns, index=X_train.index)\n",
    "X_test_scaled = pd.DataFrame(X_test_scaled, columns=X_test.columns, index=X_test.index)\n",
    "\n",
    "# Show before/after scaling for first feature\n",
    "print(\"Before scaling:\")\n",
    "print(f\"Mean: {X_train.iloc[:,0].mean():.2f}\")\n",
    "print(f\"Std: {X_train.iloc[:,0].std():.2f}\")\n",
    "\n",
    "print(\"\\nAfter scaling:\")\n",
    "print(f\"Mean: {X_train_scaled.iloc[:,0].mean():.2f}\")\n",
    "print(f\"Std: {X_train_scaled.iloc[:,0].std():.2f}\")"
   ]
  },
  {
   "cell_type": "code",
   "execution_count": 194,
   "id": "57ed4551",
   "metadata": {},
   "outputs": [
    {
     "name": "stdout",
     "output_type": "stream",
     "text": [
      "Classes: ['CANDIDATE' 'CONFIRMED' 'FALSE POSITIVE']\n",
      "Training label distribution:\n",
      " 2    3387\n",
      "1    1922\n",
      "0    1385\n",
      "Name: count, dtype: int64\n"
     ]
    }
   ],
   "source": [
    "# convert one-hot DataFrame -> single string label -> integer codes\n",
    "y_train_single = y_train.idxmax(axis=1).str.replace('koi_disposition_', '').str.strip()\n",
    "y_test_single  = y_test.idxmax(axis=1).str.replace('koi_disposition_', '').str.strip()\n",
    "##encode labels\n",
    "for filename in os.listdir(dir_path.replace('data', 'models')):\n",
    "    if 'label_encoder.joblib' in filename:\n",
    "        le = joblib.load(dir_path.replace('data', 'models') + '//' + filename)\n",
    "        break\n",
    "    else:\n",
    "        le = LabelEncoder()\n",
    "        \n",
    "y_train_enc = le.fit_transform(y_train_single)\n",
    "y_test_enc  = le.transform(y_test_single)\n",
    "\n",
    "print(\"Classes:\", le.classes_)\n",
    "print(\"Training label distribution:\\n\", pd.Series(y_train_enc).value_counts())"
   ]
  },
  {
   "cell_type": "code",
   "execution_count": 195,
   "id": "715a4601",
   "metadata": {},
   "outputs": [
    {
     "name": "stdout",
     "output_type": "stream",
     "text": [
      "F1 score for 50 trees: 0.9159\n",
      "F1 score for 100 trees: 0.9193\n",
      "F1 score for 200 trees: 0.9179\n",
      "F1 score for 300 trees: 0.9183\n",
      "F1 score for 400 trees: 0.9194\n",
      "F1 score for 500 trees: 0.9204\n",
      "Best F1 score: 0.9204\n",
      "First 5 predictions:\n",
      " [1 2 1 2 1]\n"
     ]
    }
   ],
   "source": [
    "number_of_trees = [50, 100, 200, 300, 400, 500]\n",
    "best_f1 = 0\n",
    "best_rf = None\n",
    "best_pred = None  # store predictions of best model\n",
    "\n",
    "for filename in os.listdir(dir_path.replace('data', 'models')):\n",
    "    if 'kepler_rf_best' in filename:\n",
    "        # Load existing model\n",
    "        best_rf = joblib.load(os.path.join(dir_path.replace('data', 'models'), filename))\n",
    "        y_pred = best_rf.predict(X_test_scaled)\n",
    "        best_f1 = f1_score(y_test_enc, y_pred, average='weighted')\n",
    "        best_pred = y_pred\n",
    "        print(f\"Loaded existing model with F1 score: {best_f1:.4f}\")\n",
    "        break\n",
    "else:\n",
    "    # If no model found, train new ones\n",
    "    for n in number_of_trees:\n",
    "        rf = RandomForestClassifier(n_estimators=n, random_state=42)\n",
    "        rf.fit(X_train_scaled, y_train_enc)\n",
    "\n",
    "        y_pred = rf.predict(X_test_scaled)\n",
    "        f1 = f1_score(y_test_enc, y_pred, average='weighted')\n",
    "        print(f\"F1 score for {n} trees: {f1:.4f}\")\n",
    "\n",
    "        if f1 > best_f1:\n",
    "            best_f1 = f1\n",
    "            best_rf = rf\n",
    "            best_pred = y_pred\n",
    "\n",
    "print(f\"Best F1 score: {best_f1:.4f}\")\n",
    "print(\"First 5 predictions:\\n\", best_pred[:5])\n"
   ]
  },
  {
   "cell_type": "code",
   "execution_count": 196,
   "id": "50acf17b",
   "metadata": {},
   "outputs": [
    {
     "name": "stdout",
     "output_type": "stream",
     "text": [
      "Prediction Accuracy: 92.06%\n"
     ]
    },
    {
     "data": {
      "image/png": "[encoded data removed]",
      "text/plain": [
       "<Figure size 600x400 with 2 Axes>"
      ]
     },
     "metadata": {},
     "output_type": "display_data"
    },
    {
     "data": {
      "text/plain": [
       "<Figure size 640x480 with 0 Axes>"
      ]
     },
     "metadata": {},
     "output_type": "display_data"
    }
   ],
   "source": [
    "y_pred = best_rf.predict(X_test_scaled)\n",
    "accuracy = accuracy_score(y_test_enc, y_pred)\n",
    "print(f'Prediction Accuracy: {accuracy * 100:.2f}%')\n",
    "\n",
    "# Confusion matrix\n",
    "cm = confusion_matrix(y_test_enc, y_pred)\n",
    "\n",
    "plt.figure(figsize=(6, 4))\n",
    "sns.heatmap(cm, annot=True, fmt=\"d\", cmap=\"Blues\",\n",
    "            xticklabels=le.classes_, yticklabels=le.classes_)\n",
    "plt.xlabel(\"Predicted\")\n",
    "plt.ylabel(\"Actual\")\n",
    "plt.title(\"Confusion Matrix\")\n",
    "plt.show()\n",
    "plt.savefig(dir_path.replace('data', 'models') + '/confusion_matrix.png')\n"
   ]
  },
  {
   "cell_type": "code",
   "execution_count": 197,
   "id": "ff7ee415",
   "metadata": {},
   "outputs": [
    {
     "data": {
      "text/plain": [
       "['c:\\\\Users\\\\downe\\\\RightGoodProgrammers\\\\models\\\\keplerkepler_rf_best.pkl']"
      ]
     },
     "execution_count": 197,
     "metadata": {},
     "output_type": "execute_result"
    }
   ],
   "source": [
    "# save best model and label encoder and scaler\n",
    "current_dir = os.getcwd()\n",
    "model_dir = current_dir.replace('src\\\\kepler', 'models\\\\kepler')\n",
    "joblib.dump(best_rf, model_dir + 'kepler_rf_best.pkl')"
   ]
  }
 ],
 "metadata": {
  "kernelspec": {
   "display_name": "Python 3",
   "language": "python",
   "name": "python3"
  },
  "language_info": {
   "codemirror_mode": {
    "name": "ipython",
    "version": 3
   },
   "file_extension": ".py",
   "mimetype": "text/x-python",
   "name": "python",
   "nbconvert_exporter": "python",
   "pygments_lexer": "ipython3",
   "version": "3.10.0"
  }
 },
 "nbformat": 4,
 "nbformat_minor": 5
}
