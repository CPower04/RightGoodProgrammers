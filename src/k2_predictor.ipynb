{
 "cells": [
  {
   "cell_type": "code",
   "execution_count": 81,
   "id": "5acf0dba-e745-437c-ba20-31a65e1e8082",
   "metadata": {},
   "outputs": [],
   "source": [
    "import numpy as np\n",
    "import pandas as pd\n",
    "import matplotlib.pyplot as plt\n",
    "from sklearn import svm\n",
    "from sklearn import datasets\n",
    "from sklearn.svm import SVC\n",
    "from sklearn.model_selection import train_test_split\n",
    "from sklearn.preprocessing import StandardScaler\n",
    "from sklearn.metrics import classification_report, confusion_matrix, accuracy_score\n",
    "import seaborn as sns\n",
    "import joblib"
   ]
  },
  {
   "cell_type": "code",
   "execution_count": 73,
   "id": "1743a0de-117a-4760-9f80-da16f3a928a0",
   "metadata": {},
   "outputs": [
    {
     "data": {
      "text/html": [
       "<div>\n",
       "<style scoped>\n",
       "    .dataframe tbody tr th:only-of-type {\n",
       "        vertical-align: middle;\n",
       "    }\n",
       "\n",
       "    .dataframe tbody tr th {\n",
       "        vertical-align: top;\n",
       "    }\n",
       "\n",
       "    .dataframe thead th {\n",
       "        text-align: right;\n",
       "    }\n",
       "</style>\n",
       "<table border=\"1\" class=\"dataframe\">\n",
       "  <thead>\n",
       "    <tr style=\"text-align: right;\">\n",
       "      <th></th>\n",
       "      <th>disposition_CONFIRMED</th>\n",
       "      <th>disposition_CANDIDATE</th>\n",
       "      <th>disposition_FALSE POSITIVE</th>\n",
       "      <th>disposition_REFUTED</th>\n",
       "      <th>sy_snum</th>\n",
       "      <th>sy_pnum</th>\n",
       "      <th>pl_controv_flag</th>\n",
       "      <th>pl_orbper</th>\n",
       "      <th>st_rad</th>\n",
       "      <th>st_raderr1</th>\n",
       "      <th>st_radlim</th>\n",
       "      <th>ra</th>\n",
       "      <th>sy_dist</th>\n",
       "      <th>sy_vmag</th>\n",
       "      <th>sy_vmagerr1</th>\n",
       "      <th>sy_kmagerr1</th>\n",
       "      <th>sy_gaiamagerr1</th>\n",
       "    </tr>\n",
       "  </thead>\n",
       "  <tbody>\n",
       "    <tr>\n",
       "      <th>0</th>\n",
       "      <td>1.0</td>\n",
       "      <td>0.0</td>\n",
       "      <td>0.0</td>\n",
       "      <td>0.0</td>\n",
       "      <td>1.0</td>\n",
       "      <td>1.0</td>\n",
       "      <td>0.0</td>\n",
       "      <td>41.688644</td>\n",
       "      <td>0.956122</td>\n",
       "      <td>0.098585</td>\n",
       "      <td>0.0</td>\n",
       "      <td>53.651123</td>\n",
       "      <td>179.4610</td>\n",
       "      <td>10.849</td>\n",
       "      <td>0.012</td>\n",
       "      <td>0.018</td>\n",
       "      <td>0.000249</td>\n",
       "    </tr>\n",
       "    <tr>\n",
       "      <th>1</th>\n",
       "      <td>1.0</td>\n",
       "      <td>0.0</td>\n",
       "      <td>0.0</td>\n",
       "      <td>0.0</td>\n",
       "      <td>1.0</td>\n",
       "      <td>1.0</td>\n",
       "      <td>0.0</td>\n",
       "      <td>41.685500</td>\n",
       "      <td>0.928000</td>\n",
       "      <td>0.055000</td>\n",
       "      <td>0.0</td>\n",
       "      <td>53.651123</td>\n",
       "      <td>179.4610</td>\n",
       "      <td>10.849</td>\n",
       "      <td>0.012</td>\n",
       "      <td>0.018</td>\n",
       "      <td>0.000249</td>\n",
       "    </tr>\n",
       "    <tr>\n",
       "      <th>2</th>\n",
       "      <td>1.0</td>\n",
       "      <td>0.0</td>\n",
       "      <td>0.0</td>\n",
       "      <td>0.0</td>\n",
       "      <td>1.0</td>\n",
       "      <td>1.0</td>\n",
       "      <td>0.0</td>\n",
       "      <td>41.685500</td>\n",
       "      <td>1.080000</td>\n",
       "      <td>0.060000</td>\n",
       "      <td>0.0</td>\n",
       "      <td>53.651123</td>\n",
       "      <td>179.4610</td>\n",
       "      <td>10.849</td>\n",
       "      <td>0.012</td>\n",
       "      <td>0.018</td>\n",
       "      <td>0.000249</td>\n",
       "    </tr>\n",
       "    <tr>\n",
       "      <th>3</th>\n",
       "      <td>0.0</td>\n",
       "      <td>1.0</td>\n",
       "      <td>0.0</td>\n",
       "      <td>0.0</td>\n",
       "      <td>1.0</td>\n",
       "      <td>0.0</td>\n",
       "      <td>0.0</td>\n",
       "      <td>2.301830</td>\n",
       "      <td>0.762602</td>\n",
       "      <td>0.053651</td>\n",
       "      <td>0.0</td>\n",
       "      <td>183.846245</td>\n",
       "      <td>97.1795</td>\n",
       "      <td>11.727</td>\n",
       "      <td>0.046</td>\n",
       "      <td>0.019</td>\n",
       "      <td>0.001307</td>\n",
       "    </tr>\n",
       "    <tr>\n",
       "      <th>4</th>\n",
       "      <td>0.0</td>\n",
       "      <td>1.0</td>\n",
       "      <td>0.0</td>\n",
       "      <td>0.0</td>\n",
       "      <td>1.0</td>\n",
       "      <td>0.0</td>\n",
       "      <td>0.0</td>\n",
       "      <td>2.302368</td>\n",
       "      <td>0.710995</td>\n",
       "      <td>0.018609</td>\n",
       "      <td>0.0</td>\n",
       "      <td>183.846245</td>\n",
       "      <td>97.1795</td>\n",
       "      <td>11.727</td>\n",
       "      <td>0.046</td>\n",
       "      <td>0.019</td>\n",
       "      <td>0.001307</td>\n",
       "    </tr>\n",
       "  </tbody>\n",
       "</table>\n",
       "</div>"
      ],
      "text/plain": [
       "   disposition_CONFIRMED  disposition_CANDIDATE  ...  sy_kmagerr1  sy_gaiamagerr1\n",
       "0                    1.0                    0.0  ...        0.018        0.000249\n",
       "1                    1.0                    0.0  ...        0.018        0.000249\n",
       "2                    1.0                    0.0  ...        0.018        0.000249\n",
       "3                    0.0                    1.0  ...        0.019        0.001307\n",
       "4                    0.0                    1.0  ...        0.019        0.001307\n",
       "\n",
       "[5 rows x 17 columns]"
      ]
     },
     "execution_count": 73,
     "metadata": {},
     "output_type": "execute_result"
    }
   ],
   "source": [
    "with open('../data/k2panda_fin.csv') as file:\n",
    "    k2 = pd.read_csv(file)\n",
    "k2.drop(k2.columns[0], axis=1, inplace=True)\n",
    "k2.head()"
   ]
  },
  {
   "cell_type": "code",
   "execution_count": 74,
   "id": "099a5844-9c7e-4843-a165-f4b8533c366b",
   "metadata": {},
   "outputs": [],
   "source": [
    "y, X = k2[[\n",
    "    'disposition_CONFIRMED',\n",
    "    'disposition_CANDIDATE',\n",
    "    'disposition_FALSE POSITIVE',\n",
    "    'disposition_REFUTED'\n",
    "]], k2.drop([\n",
    "    'disposition_CONFIRMED',\n",
    "    'disposition_CANDIDATE',\n",
    "    'disposition_FALSE POSITIVE',\n",
    "    'disposition_REFUTED'\n",
    "], axis=1)\n",
    "\n",
    "scaler = StandardScaler()\n",
    "X = scaler.fit_transform(X)"
   ]
  },
  {
   "cell_type": "code",
   "execution_count": 75,
   "id": "8e353073-9b08-44b4-90e4-e8cb40424a73",
   "metadata": {},
   "outputs": [
    {
     "data": {
      "text/plain": [
       "array([0, 0, 0, ..., 0, 0, 0])"
      ]
     },
     "execution_count": 75,
     "metadata": {},
     "output_type": "execute_result"
    }
   ],
   "source": [
    "def give_values(column):\n",
    "    if column == 'disposition_CONFIRMED':\n",
    "        return 0\n",
    "    elif column == 'disposition_CANDIDATE':\n",
    "        return 1\n",
    "    else:\n",
    "        return 2\n",
    "\n",
    "y_df = pd.DataFrame(y[['disposition_CONFIRMED', \n",
    "           'disposition_CANDIDATE', \n",
    "           'disposition_FALSE POSITIVE',\n",
    "           'disposition_REFUTED'\n",
    "          ]].idxmax(axis=1).apply(lambda x: give_values(x)))[0].to_numpy()\n",
    "y_df"
   ]
  },
  {
   "cell_type": "code",
   "execution_count": 76,
   "id": "0c34dfd3-360e-4427-add2-918d8322dd36",
   "metadata": {},
   "outputs": [],
   "source": [
    "X_train, X_test, y_train, y_test = train_test_split(X, \n",
    "                                                    y_df, \n",
    "                                                    test_size=0.2, \n",
    "                                                    random_state=0,\n",
    "                                                    stratify=y\n",
    "                                                   )"
   ]
  },
  {
   "cell_type": "code",
   "execution_count": 77,
   "id": "826c8f1d-3cab-4f31-a697-de504b4c338f",
   "metadata": {},
   "outputs": [
    {
     "name": "stdout",
     "output_type": "stream",
     "text": [
      "Prediction Accuracy: 92.88%\n"
     ]
    }
   ],
   "source": [
    "model = SVC(kernel='rbf')\n",
    "model.fit(X_train, y_train)\n",
    "prediction = model.predict(X_test)\n",
    "accuracy = accuracy_score(y_test, prediction)\n",
    "print(f'Prediction Accuracy: {accuracy * 100:.2f}%')"
   ]
  },
  {
   "cell_type": "code",
   "execution_count": 78,
   "id": "ecfe0e75-c966-40f9-b9c3-022aa793bf45",
   "metadata": {},
   "outputs": [
    {
     "data": {
      "image/png": "[encoded data removed]",
      "text/plain": [
       "<Figure size 640x480 with 2 Axes>"
      ]
     },
     "metadata": {},
     "output_type": "display_data"
    }
   ],
   "source": [
    "cm = confusion_matrix(y_test, prediction)\n",
    "\n",
    "sns.heatmap(cm, \n",
    "            annot=True, \n",
    "            fmt='d', \n",
    "            cmap='Blues', \n",
    "            xticklabels=['Confirmed', 'Candidate', 'False'],\n",
    "            yticklabels=['Confirmed', 'Candidate', 'False'])\n",
    "plt.title('Confusion Matrix')\n",
    "plt.xlabel('Predicted')\n",
    "plt.ylabel('Actual')\n",
    "plt.show()"
   ]
  },
  {
   "cell_type": "code",
   "execution_count": 79,
   "id": "45258057-6136-4207-9e7b-89f474c0ebad",
   "metadata": {},
   "outputs": [
    {
     "name": "stdout",
     "output_type": "stream",
     "text": [
      "              precision    recall  f1-score   support\n",
      "\n",
      "           0       0.99      1.00      0.99       463\n",
      "           1       0.84      0.98      0.90       275\n",
      "           2       0.92      0.19      0.32        63\n",
      "\n",
      "    accuracy                           0.93       801\n",
      "   macro avg       0.92      0.72      0.74       801\n",
      "weighted avg       0.93      0.93      0.91       801\n",
      "\n"
     ]
    }
   ],
   "source": [
    "print(classification_report(y_test, prediction))"
   ]
  },
  {
   "cell_type": "code",
   "execution_count": 84,
   "id": "d6d53ec2-af27-48ce-b0e0-3cd5257cb19f",
   "metadata": {},
   "outputs": [
    {
     "data": {
      "text/plain": [
       "['../models/k2panda_model.pkl']"
      ]
     },
     "execution_count": 84,
     "metadata": {},
     "output_type": "execute_result"
    }
   ],
   "source": [
    "joblib.dump(model, '../models/k2panda_model.pkl')"
   ]
  }
 ],
 "metadata": {
  "kernelspec": {
   "display_name": "Python 3 (ipykernel)",
   "language": "python",
   "name": "python3"
  },
  "language_info": {
   "codemirror_mode": {
    "name": "ipython",
    "version": 3
   },
   "file_extension": ".py",
   "mimetype": "text/x-python",
   "name": "python",
   "nbconvert_exporter": "python",
   "pygments_lexer": "ipython3",
   "version": "3.12.8"
  }
 },
 "nbformat": 4,
 "nbformat_minor": 5
}
